{
 "cells": [
  {
   "cell_type": "code",
   "execution_count": null,
   "id": "cfcad701",
   "metadata": {},
   "outputs": [],
   "source": [
    "#soma\n",
    "4 + 4"
   ]
  },
  {
   "cell_type": "code",
   "execution_count": null,
   "id": "92755053",
   "metadata": {},
   "outputs": [],
   "source": [
    "#subtração\n",
    "50 -146"
   ]
  },
  {
   "cell_type": "code",
   "execution_count": null,
   "id": "b45c25a0",
   "metadata": {},
   "outputs": [],
   "source": [
    "#multiplicação\n",
    "4 * 20"
   ]
  },
  {
   "cell_type": "code",
   "execution_count": null,
   "id": "9189d606",
   "metadata": {},
   "outputs": [],
   "source": [
    "#divisão\n",
    "40 / 50"
   ]
  },
  {
   "cell_type": "code",
   "execution_count": null,
   "id": "b4bc9a52",
   "metadata": {},
   "outputs": [],
   "source": [
    "#potencia\n",
    "4 ** 9"
   ]
  },
  {
   "cell_type": "code",
   "execution_count": null,
   "id": "efbc92f7",
   "metadata": {},
   "outputs": [],
   "source": [
    "#modulo\n",
    "50 % 4"
   ]
  },
  {
   "cell_type": "markdown",
   "id": "baabcdae",
   "metadata": {},
   "source": [
    "## Função type"
   ]
  },
  {
   "cell_type": "code",
   "execution_count": null,
   "id": "a0009ee4",
   "metadata": {},
   "outputs": [],
   "source": [
    "type(10)"
   ]
  },
  {
   "cell_type": "code",
   "execution_count": null,
   "id": "afe3e409",
   "metadata": {},
   "outputs": [],
   "source": [
    "type(10.5)"
   ]
  },
  {
   "cell_type": "code",
   "execution_count": null,
   "id": "647cbfc4",
   "metadata": {},
   "outputs": [],
   "source": [
    "a = 'sou uma string'\n",
    "type(a)"
   ]
  },
  {
   "cell_type": "markdown",
   "id": "ff6d4b9a",
   "metadata": {},
   "source": [
    "## Operações com Números Float"
   ]
  },
  {
   "cell_type": "code",
   "execution_count": null,
   "id": "2991d74d",
   "metadata": {},
   "outputs": [],
   "source": [
    "15.5 + 10.7"
   ]
  },
  {
   "cell_type": "code",
   "execution_count": null,
   "id": "2cf78945",
   "metadata": {},
   "outputs": [],
   "source": [
    "10 + 4.7"
   ]
  },
  {
   "cell_type": "code",
   "execution_count": null,
   "id": "01aad2aa",
   "metadata": {},
   "outputs": [],
   "source": [
    "10 + 10"
   ]
  },
  {
   "cell_type": "code",
   "execution_count": null,
   "id": "ee2b51a6",
   "metadata": {},
   "outputs": [],
   "source": [
    "#resultado é número float\n",
    "7/ 2"
   ]
  },
  {
   "cell_type": "code",
   "execution_count": null,
   "id": "c7cc5cc5",
   "metadata": {},
   "outputs": [],
   "source": [
    "#resultado é número inteiro\n",
    "7 // 2"
   ]
  },
  {
   "cell_type": "code",
   "execution_count": null,
   "id": "f50bc8c2",
   "metadata": {},
   "outputs": [],
   "source": [
    "4 / 3.0"
   ]
  },
  {
   "cell_type": "markdown",
   "id": "90b2cc16",
   "metadata": {},
   "source": [
    "# divisão com número float vai sempre me devolver um número float"
   ]
  },
  {
   "cell_type": "code",
   "execution_count": null,
   "id": "ed12a437",
   "metadata": {},
   "outputs": [],
   "source": [
    "4 // 3.0"
   ]
  },
  {
   "cell_type": "markdown",
   "id": "6bad6dc1",
   "metadata": {},
   "source": [
    "## conversão"
   ]
  },
  {
   "cell_type": "code",
   "execution_count": null,
   "id": "d775a850",
   "metadata": {},
   "outputs": [],
   "source": [
    "float(10)"
   ]
  },
  {
   "cell_type": "code",
   "execution_count": null,
   "id": "a1991836",
   "metadata": {},
   "outputs": [],
   "source": [
    "int(10.7)"
   ]
  },
  {
   "cell_type": "code",
   "execution_count": null,
   "id": "4ae21f7f",
   "metadata": {},
   "outputs": [],
   "source": [
    "int(10.0)"
   ]
  },
  {
   "cell_type": "markdown",
   "id": "cc586b67",
   "metadata": {},
   "source": [
    "## Hexedecimal e binario"
   ]
  },
  {
   "cell_type": "code",
   "execution_count": null,
   "id": "6c6280cd",
   "metadata": {},
   "outputs": [],
   "source": [
    "hex(240)"
   ]
  },
  {
   "cell_type": "code",
   "execution_count": null,
   "id": "0e1292e8",
   "metadata": {},
   "outputs": [],
   "source": [
    "hex(540)"
   ]
  },
  {
   "cell_type": "code",
   "execution_count": null,
   "id": "dc5ada90",
   "metadata": {},
   "outputs": [],
   "source": [
    "bin(645)"
   ]
  },
  {
   "cell_type": "code",
   "execution_count": null,
   "id": "91f07b99",
   "metadata": {},
   "outputs": [],
   "source": [
    "bin(1500)"
   ]
  },
  {
   "cell_type": "markdown",
   "id": "003daf4f",
   "metadata": {},
   "source": [
    "## Funções ABS, ROUND E POW"
   ]
  },
  {
   "cell_type": "code",
   "execution_count": null,
   "id": "e8b9a15a",
   "metadata": {},
   "outputs": [],
   "source": [
    "#retornar ao valor absoluto\n",
    "abs(-8)"
   ]
  },
  {
   "cell_type": "code",
   "execution_count": null,
   "id": "c0447cb0",
   "metadata": {},
   "outputs": [],
   "source": [
    "#retornar ao valor absoluto\n",
    "abs(8)"
   ]
  },
  {
   "cell_type": "code",
   "execution_count": null,
   "id": "ce181471",
   "metadata": {},
   "outputs": [],
   "source": [
    "#retornar ao valor com arredondamento\n",
    "round(3.548166741,2)"
   ]
  },
  {
   "cell_type": "code",
   "execution_count": null,
   "id": "44dfdf53",
   "metadata": {},
   "outputs": [],
   "source": [
    "#potencia\n",
    "pow(6,8)"
   ]
  },
  {
   "cell_type": "code",
   "execution_count": null,
   "id": "72a397e2",
   "metadata": {},
   "outputs": [],
   "source": [
    "#potencia\n",
    "pow(10,8)"
   ]
  },
  {
   "cell_type": "markdown",
   "id": "7f874878",
   "metadata": {},
   "source": [
    "## fim"
   ]
  },
  {
   "cell_type": "markdown",
   "id": "9a9bffa0",
   "metadata": {},
   "source": [
    "## Obrigado - Joshua Grahan - https://www.facebook.com/joshua.grahan/"
   ]
  },
  {
   "cell_type": "code",
   "execution_count": null,
   "id": "a39f089e",
   "metadata": {},
   "outputs": [],
   "source": []
  }
 ],
 "metadata": {
  "kernelspec": {
   "display_name": "Python 3 (ipykernel)",
   "language": "python",
   "name": "python3"
  },
  "language_info": {
   "codemirror_mode": {
    "name": "ipython",
    "version": 3
   },
   "file_extension": ".py",
   "mimetype": "text/x-python",
   "name": "python",
   "nbconvert_exporter": "python",
   "pygments_lexer": "ipython3",
   "version": "3.9.7"
  }
 },
 "nbformat": 4,
 "nbformat_minor": 5
}
